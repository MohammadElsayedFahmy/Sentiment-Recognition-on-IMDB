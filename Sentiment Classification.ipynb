{
 "cells": [
  {
   "cell_type": "markdown",
   "metadata": {},
   "source": [
    ">>>>> # MLND Capstone Project"
   ]
  },
  {
   "cell_type": "markdown",
   "metadata": {},
   "source": [
    "\n",
    ">>> # Sentiment Classification with IMDB Dataset\n"
   ]
  },
  {
   "cell_type": "markdown",
   "metadata": {},
   "source": [
    "# Definition"
   ]
  },
  {
   "cell_type": "markdown",
   "metadata": {},
   "source": [
    "### Project Overview"
   ]
  },
  {
   "cell_type": "markdown",
   "metadata": {},
   "source": [
    "Sentiment Classification is a common task in the field of Natural Language Processing, it is about extracting the sentiment of a person given a text they wrote as input.\n",
    "\n",
    "Extracting sentiment from text can lead to build more intelligent systems acting according to those sentiments like chatbots or smart assistants.\n",
    "\n",
    "Although this task is considered a complex task even for humans due to absence of facial expressions and voice tones in text but it is fairly much easier when given a paragraph of more of text written for the purpose of delivering sentiment such as the case with movie reviews.\n",
    "\n",
    "The dataset was constructed back in 2011 by Andrew L. Mass et al. in the paper “Learning Word Vectors for Sentiment Analysis”, was a Kaggle challenge in 2016 and considered a Sentiment Analysis benchmark.\n",
    "Another Dataset used for this task is \"Rotten Tomatoes\" Dataset.\n"
   ]
  },
  {
   "cell_type": "markdown",
   "metadata": {},
   "source": [
    "### Problem Statement"
   ]
  },
  {
   "cell_type": "markdown",
   "metadata": {},
   "source": [
    "Given the 50k labeled IMDB movie reviews in text format it is required to extract the sentiment and classify each review (from the 25k test set) to be either positive or negative, then compare the predicted results to the real labels and output the classification accuracy.\n",
    "\n",
    "The problem is to be solved by extracting features out of blocks of text (reviews) and mapping feature values and combinations to either positive or negative sentiment classes through the usage of a couple of Supervised Machine Learning Algorithms (Logistic regression and Naive Bayes), Also some text preprocessing will be done (lemmatization,stop-words removal,punctuation removal ..etc) to facilitate and improve quality of extracted features.\n"
   ]
  },
  {
   "cell_type": "markdown",
   "metadata": {},
   "source": [
    "### Evaluation Metrics"
   ]
  },
  {
   "cell_type": "markdown",
   "metadata": {},
   "source": [
    "The metric used to evaluate the model is the Accuracy because it is a classification task and all we care about is whether or not the model can extract the sentiment from the reviews correctly.\n",
    "\n",
    "So we determine how well the model is performing by finding the percentage of the correctly predicted labels.\n",
    "\n",
    "Accuracy= (number of correct labels) / (total number of labels) * 100%"
   ]
  },
  {
   "cell_type": "markdown",
   "metadata": {},
   "source": [
    "# Analysis"
   ]
  },
  {
   "cell_type": "markdown",
   "metadata": {},
   "source": [
    "### Data Exploration"
   ]
  },
  {
   "cell_type": "markdown",
   "metadata": {},
   "source": [
    "The IMDB movie review dataset was first proposed by Maas et al.in ”Learning Word Vectors for Sentiment Analysis” as a benchmark for sentiment analysis.\n",
    "\n",
    "The dataset consists of 100K IMDB movie reviews and each review has several sentences.\n",
    "The 100K reviews are divided into three datasets: 25K labeled training instances, 25K\n",
    "labeled test instances and 50K unlabeled training instances. Each review consists of several sentences of text in a file and has one label representing its sentiment: Positive or Negative. These labels are balanced in both\n",
    "the training and the test set.\n",
    "\n",
    "The dataset can be obtained from : http://ai.stanford.edu/~amaas/data/sentiment/\n",
    "\n",
    "I will use the 50k labeled section of the dataset to train my supervised learning model."
   ]
  },
  {
   "cell_type": "markdown",
   "metadata": {},
   "source": [
    "#### Imports and requirements"
   ]
  },
  {
   "cell_type": "markdown",
   "metadata": {},
   "source": [
    "The following cell should be uncommented at the first run to make sure all needed libraries for the project and packages are installed (assuming user has Jupyter Notebooks installed and all default ML libraries like numpy and sklearn)"
   ]
  },
  {
   "cell_type": "code",
   "execution_count": 2,
   "metadata": {},
   "outputs": [],
   "source": [
    "# !python3 -m pip install -U stop-words\n",
    "# !python3 -m pip install -U nltk\n",
    "# !python3 -m pip install -U gensim\n",
    "# !python3 -m pip install -U bs4\n",
    "# !python3 -m pip install -U tqdm\n",
    "#!python3 -m pip install -U seaborn\n",
    "# import nltk\n",
    "# nltk.download('popular')\n",
    "# nltk.download('punkt')\n",
    "# nltk.download('stopwords')"
   ]
  },
  {
   "cell_type": "code",
   "execution_count": 3,
   "metadata": {},
   "outputs": [],
   "source": [
    "#Natural Language Toolkit : a famous python lib for text processing\n",
    "import nltk\n",
    "from nltk.corpus import stopwords\n",
    "from stop_words import get_stop_words\n",
    "from nltk.corpus import stopwords\n",
    "from nltk.tokenize import word_tokenize\n",
    "from nltk.corpus import wordnet\n",
    "from nltk.stem.wordnet import WordNetLemmatizer\n",
    "from nltk.stem import WordNetLemmatizer\n",
    "import numpy as np\n",
    "#BeautifulSoup used for text cleaning (removing HTML tags here)\n",
    "from bs4 import BeautifulSoup\n",
    "#Glob for dealing with files and directories\n",
    "import glob\n",
    "from functools import reduce\n",
    "import operator\n",
    "#tqdm for progress bars\n",
    "from tqdm import tqdm"
   ]
  },
  {
   "cell_type": "markdown",
   "metadata": {
    "colab_type": "text",
    "id": "zmAm1ddciU2q"
   },
   "source": [
    "#### Downloading dataset,extracting compressed files"
   ]
  },
  {
   "cell_type": "markdown",
   "metadata": {},
   "source": [
    "This cell should be uncommented on first run to download dataset to the directory and uncompress it."
   ]
  },
  {
   "cell_type": "code",
   "execution_count": 4,
   "metadata": {
    "colab": {
     "autoexec": {
      "startup": false,
      "wait_interval": 0
     },
     "base_uri": "https://localhost:8080/",
     "height": 1739187
    },
    "colab_type": "code",
    "executionInfo": {
     "elapsed": 79180,
     "status": "ok",
     "timestamp": 1523881934596,
     "user": {
      "displayName": "Kareem Abdel Salam",
      "photoUrl": "//lh5.googleusercontent.com/-FFkZs03hTYw/AAAAAAAAAAI/AAAAAAAAJYE/suktak0dYDI/s50-c-k-no/photo.jpg",
      "userId": "111052780768832987513"
     },
     "user_tz": -120
    },
    "id": "CRRDBMtKiVQa",
    "outputId": "a3d86c3c-50f4-4b50-eb11-71f6b252bade"
   },
   "outputs": [],
   "source": [
    "# !rm -rf datalab\n",
    "# !wget -c http://ai.stanford.edu/~amaas/data/sentiment/aclImdb_v1.tar.gz\n",
    "# !ls\n",
    "# !uncompress aclImdb_v1.tar.gz\n",
    "# !tar -xvf aclImdb_v1.tar\n",
    "# !rm aclImdb_v1.tar\n",
    "# !ls"
   ]
  },
  {
   "cell_type": "markdown",
   "metadata": {},
   "source": [
    "** Exploratory Visualization ** is done by printing samples when reading files and file names to explore the dataset and its contents.\n",
    "\n",
    "Visualization is also done throughout the whole notebook by printing samples of results after each processing step to ensure correctness and for better readability.Also "
   ]
  },
  {
   "cell_type": "markdown",
   "metadata": {},
   "source": [
    "** Benchmark: ** \n",
    "\n",
    "A good benchmark to see whether a machine-learning solution works or not is random chance.\n",
    "\n",
    "Given that the data is evenly split and the 25k test data is composed of 12.5 k positive samples and 12.5k negative samples then a random chance classifier will give a ** 50% ** accuracy,\n",
    "so my model must outperform this percentage in order to be effective.\n",
    "\n",
    "Another historical benchmark to compare my solution to is the paper mentioned before and in the Credits section buy Andrew Mass : the highest classification accuracy was ** 88.89% ** on this dataset.\n",
    "So an efficient model will give close numbers or outperform it.\n"
   ]
  },
  {
   "cell_type": "markdown",
   "metadata": {},
   "source": [
    "# Methodology"
   ]
  },
  {
   "cell_type": "markdown",
   "metadata": {},
   "source": [
    "** Data Preprocessing: ** removing HTML tags,removing stop-words and punctutations,and finally lemmatization.\n",
    "\n",
    "** Implementation: ** Feature extraction using TF-IDF, preparing training and testing data and then Supervised Learning using Logistic Regression and Naive Bayes.\n",
    "\n",
    "** Refinement: ** hyperparameter tuning of Logistic Regression classifier."
   ]
  },
  {
   "cell_type": "markdown",
   "metadata": {
    "colab_type": "text",
    "id": "rhUtqFlm5WZ8"
   },
   "source": [
    "#### Reading files containing reviews"
   ]
  },
  {
   "cell_type": "code",
   "execution_count": 5,
   "metadata": {
    "colab": {
     "autoexec": {
      "startup": false,
      "wait_interval": 0
     },
     "base_uri": "https://localhost:8080/",
     "height": 72
    },
    "colab_type": "code",
    "executionInfo": {
     "elapsed": 1166,
     "status": "ok",
     "timestamp": 1523881945504,
     "user": {
      "displayName": "Kareem Abdel Salam",
      "photoUrl": "//lh5.googleusercontent.com/-FFkZs03hTYw/AAAAAAAAAAI/AAAAAAAAJYE/suktak0dYDI/s50-c-k-no/photo.jpg",
      "userId": "111052780768832987513"
     },
     "user_tz": -120
    },
    "id": "ZKBSMyaZ0Ih8",
    "outputId": "ce6ea691-bd19-4c19-ac5b-edd77efdc017"
   },
   "outputs": [],
   "source": [
    "'''\n",
    "function to read all text file names with their full paths in a given folder\n",
    "@param  path: given in this form '/path/' in linux\n",
    "'''\n",
    "def txt_file_names_list(path):\n",
    "    txt_files=glob.glob('.'+path+'*.txt')\n",
    "    return txt_files\n",
    "  \n",
    "#testing that function actually works\n",
    "text_files=txt_file_names_list('/aclImdb/train/pos/')\n"
   ]
  },
  {
   "cell_type": "markdown",
   "metadata": {},
   "source": [
    "** visualization checking correctness: **"
   ]
  },
  {
   "cell_type": "code",
   "execution_count": 6,
   "metadata": {},
   "outputs": [
    {
     "name": "stdout",
     "output_type": "stream",
     "text": [
      "number of text files in positive training set : 12500\n",
      "first 10 file names with paths:  ['./aclImdb/train/pos/9637_8.txt', './aclImdb/train/pos/9514_10.txt', './aclImdb/train/pos/5997_9.txt', './aclImdb/train/pos/10812_8.txt', './aclImdb/train/pos/4278_10.txt', './aclImdb/train/pos/4387_9.txt', './aclImdb/train/pos/8671_7.txt', './aclImdb/train/pos/4035_10.txt', './aclImdb/train/pos/7037_10.txt', './aclImdb/train/pos/3159_9.txt']\n"
     ]
    }
   ],
   "source": [
    "print(\"number of text files in positive training set :\",len(text_files))\n",
    "print(\"first 10 file names with paths: \",text_files[:10])"
   ]
  },
  {
   "cell_type": "markdown",
   "metadata": {
    "colab_type": "text",
    "id": "fVfKVfb4R6nu"
   },
   "source": [
    "#### getting text files from folders:"
   ]
  },
  {
   "cell_type": "code",
   "execution_count": 7,
   "metadata": {
    "colab": {
     "autoexec": {
      "startup": false,
      "wait_interval": 0
     }
    },
    "colab_type": "code",
    "id": "UBsU7_Mq3TbY"
   },
   "outputs": [],
   "source": [
    "#made lists of names of files containing reviews (with their paths)\n",
    "pos_train_txt_names = txt_file_names_list('/aclImdb/train/pos/')\n",
    "neg_train_txt_names = txt_file_names_list('/aclImdb/train/neg/')\n",
    "pos_test_txt_names = txt_file_names_list('/aclImdb/test/pos/')\n",
    "neg_test_txt_names = txt_file_names_list('/aclImdb/test/neg/')"
   ]
  },
  {
   "cell_type": "markdown",
   "metadata": {
    "colab_type": "text",
    "id": "cRmpm1FCSDJ6"
   },
   "source": [
    "#### reading the files to get the reviews' text:"
   ]
  },
  {
   "cell_type": "code",
   "execution_count": 8,
   "metadata": {
    "colab": {
     "autoexec": {
      "startup": false,
      "wait_interval": 0
     },
     "base_uri": "https://localhost:8080/",
     "height": 89
    },
    "colab_type": "code",
    "executionInfo": {
     "elapsed": 1670,
     "status": "ok",
     "timestamp": 1523881948630,
     "user": {
      "displayName": "Kareem Abdel Salam",
      "photoUrl": "//lh5.googleusercontent.com/-FFkZs03hTYw/AAAAAAAAAAI/AAAAAAAAJYE/suktak0dYDI/s50-c-k-no/photo.jpg",
      "userId": "111052780768832987513"
     },
     "user_tz": -120
    },
    "id": "jrosLxnP53sC",
    "outputId": "32e37c5d-95a6-418b-fff9-909f4687a149"
   },
   "outputs": [],
   "source": [
    "'''\n",
    "Function capture_text_from_files()\n",
    "Given an array of strings of paths(names) of files to be read ,\n",
    "reads each file and saves all text in a string list\n",
    "where each element in the list is a full review\n",
    "\n",
    "@param text_file_names     list of text file names and paths to them\n",
    "\n",
    "@return text_files         list of contents of given text files\n",
    "'''\n",
    "def capture_text_from_files(text_file_paths):\n",
    "    text_files=[]\n",
    "    for file_path in text_file_paths:\n",
    "      f = open(file_path, 'r')\n",
    "      lines = f.readlines()\n",
    "      text=\"\"\n",
    "      f.close()\n",
    "      for line in lines:\n",
    "          text+=\" \"+line\n",
    "      text_files.append(text)\n",
    "    \n",
    "    return text_files\n",
    "      \n",
    "  "
   ]
  },
  {
   "cell_type": "markdown",
   "metadata": {},
   "source": [
    "#### (Exploratory visualization)"
   ]
  },
  {
   "cell_type": "code",
   "execution_count": 9,
   "metadata": {},
   "outputs": [
    {
     "name": "stdout",
     "output_type": "stream",
     "text": [
      "number of text review read : \n",
      " 12500\n",
      "\n",
      "name and path of the first review in the list:\n",
      "  ./aclImdb/train/pos/9637_8.txt\n",
      "\n",
      "content of the file contatining the first review:\n",
      "   This movie has a special way of telling the story, at first i found it rather odd as it jumped through time and I had no idea whats happening.<br /><br />Anyway the story line was although simple, but still very real and touching. You met someone the first time, you fell in love completely, but broke up at last and promoted a deadly agony. Who hasn't go through this? but we will never forget this kind of pain in our life. <br /><br />I would say i am rather touched as two actor has shown great performance in showing the love between the characters. I just wish that the story could be a happy ending.\n"
     ]
    }
   ],
   "source": [
    "#testing  the function and data exploration\n",
    "pos_reviews_train=capture_text_from_files(pos_train_txt_names )\n",
    "print(\"number of text review read : \\n\",len(pos_reviews_train))\n",
    "print(\"\\nname and path of the first review in the list:\\n \",pos_train_txt_names[0])\n",
    "print(\"\\ncontent of the file contatining the first review:\\n \",pos_reviews_train[0])\n"
   ]
  },
  {
   "cell_type": "markdown",
   "metadata": {},
   "source": [
    "we can check that the function correcly works by comparing printed review to the one in the file with the same name in the dataset files manually "
   ]
  },
  {
   "cell_type": "markdown",
   "metadata": {},
   "source": [
    "#### final stage of reading reviews before starting preprocessing:"
   ]
  },
  {
   "cell_type": "code",
   "execution_count": 10,
   "metadata": {
    "colab": {
     "autoexec": {
      "startup": false,
      "wait_interval": 0
     }
    },
    "colab_type": "code",
    "id": "llQC_RRtkY5w"
   },
   "outputs": [],
   "source": [
    "#getting reviews text into lists to preprocess :\n",
    "pos_reviews_train_list=capture_text_from_files(pos_train_txt_names)\n",
    "neg_reviews_train_list=capture_text_from_files(neg_train_txt_names )\n",
    "pos_reviews_test_list=capture_text_from_files(pos_test_txt_names)\n",
    "neg_reviews_test_list=capture_text_from_files(neg_test_txt_names )"
   ]
  },
  {
   "cell_type": "markdown",
   "metadata": {},
   "source": [
    "** Samples **"
   ]
  },
  {
   "cell_type": "code",
   "execution_count": 11,
   "metadata": {},
   "outputs": [],
   "source": [
    "pos_review_train=pos_reviews_train_list[0]\n",
    "neg_review_train=neg_reviews_train_list[0]\n",
    "pos_review_test=pos_reviews_test_list[0]\n",
    "neg_review_test=neg_reviews_test_list[0]"
   ]
  },
  {
   "cell_type": "markdown",
   "metadata": {
    "colab_type": "text",
    "id": "hlOY9_015jgq"
   },
   "source": [
    "### Text Data Preprocessing"
   ]
  },
  {
   "cell_type": "markdown",
   "metadata": {
    "colab_type": "text",
    "id": "JFaXMKB9EYxk"
   },
   "source": [
    "#### Removing HTML tags"
   ]
  },
  {
   "cell_type": "markdown",
   "metadata": {},
   "source": [
    "It can be clearly noticed from dataset exploration that the reviews containt HTML tags which will not be useful in the classification and may confuse the model and be interpreted as features.\n",
    "so the first preprocessing step is removing those tags"
   ]
  },
  {
   "cell_type": "code",
   "execution_count": 12,
   "metadata": {
    "colab": {
     "autoexec": {
      "startup": false,
      "wait_interval": 0
     }
    },
    "colab_type": "code",
    "id": "8iq6RopT8Ope"
   },
   "outputs": [],
   "source": [
    "#removing html tags from reviews not to confuse classifiers\n",
    "'''\n",
    "Function to clear all html tags from all text in a list of strings\n",
    "\n",
    "@param text_list : list of strings targeted to clean\n",
    "'''\n",
    "def clean_html_from_list(text_list):\n",
    "\n",
    "  for i in range(len(text_list)):\n",
    "    text_list[i]=BeautifulSoup(text_list[i]).get_text()\n",
    "    \n",
    "  return text_list\n",
    "\n"
   ]
  },
  {
   "cell_type": "code",
   "execution_count": 13,
   "metadata": {
    "colab": {
     "autoexec": {
      "startup": false,
      "wait_interval": 0
     },
     "base_uri": "https://localhost:8080/",
     "height": 17421
    },
    "colab_type": "code",
    "executionInfo": {
     "elapsed": 87984,
     "status": "ok",
     "timestamp": 1523882041892,
     "user": {
      "displayName": "Kareem Abdel Salam",
      "photoUrl": "//lh5.googleusercontent.com/-FFkZs03hTYw/AAAAAAAAAAI/AAAAAAAAJYE/suktak0dYDI/s50-c-k-no/photo.jpg",
      "userId": "111052780768832987513"
     },
     "user_tz": -120
    },
    "id": "enhesunHDn5I",
    "outputId": "b2960183-97c7-48e9-850f-14fce22699ab",
    "scrolled": true
   },
   "outputs": [],
   "source": [
    "#using the function on data\n",
    "pos_reviews_train_list=clean_html_from_list(pos_reviews_train_list)\n",
    "neg_reviews_train_list=clean_html_from_list(neg_reviews_train_list)\n",
    "pos_reviews_test_list=clean_html_from_list(pos_reviews_test_list)\n",
    "neg_reviews_test_list=clean_html_from_list(neg_reviews_test_list)"
   ]
  },
  {
   "cell_type": "markdown",
   "metadata": {},
   "source": [
    "** visualization checking correctness: **"
   ]
  },
  {
   "cell_type": "code",
   "execution_count": 14,
   "metadata": {},
   "outputs": [
    {
     "name": "stdout",
     "output_type": "stream",
     "text": [
      "This movie has a special way of telling the story, at first i found it rather odd as it jumped through time and I had no idea whats happening.Anyway the story line was although simple, but still very real and touching. You met someone the first time, you fell in love completely, but broke up at last and promoted a deadly agony. Who hasn't go through this? but we will never forget this kind of pain in our life. I would say i am rather touched as two actor has shown great performance in showing the love between the characters. I just wish that the story could be a happy ending.\n"
     ]
    }
   ],
   "source": [
    "print(pos_reviews_train_list[0])"
   ]
  },
  {
   "cell_type": "markdown",
   "metadata": {},
   "source": [
    "we can see after printing the same text as before that the html tags were removed"
   ]
  },
  {
   "cell_type": "markdown",
   "metadata": {
    "colab_type": "text",
    "id": "h5MmJzYLSdPw"
   },
   "source": [
    "#### Tokenization:"
   ]
  },
  {
   "cell_type": "markdown",
   "metadata": {},
   "source": [
    "Tokenization is the process of splitting the long text into individual word list, this process helps in many things including stop words removal, lemmatizaion, determining the vocabulary size and makes extracting features easier."
   ]
  },
  {
   "cell_type": "code",
   "execution_count": 15,
   "metadata": {
    "colab": {
     "autoexec": {
      "startup": false,
      "wait_interval": 0
     }
    },
    "colab_type": "code",
    "id": "e8hSvGe41uNg"
   },
   "outputs": [],
   "source": [
    "from nltk.tokenize import word_tokenize\n",
    "def tokenize_list(list_words):\n",
    "  tokens=[]\n",
    "  for review in tqdm(list_words):\n",
    "    tokens.append(word_tokenize(review))\n",
    "  return tokens"
   ]
  },
  {
   "cell_type": "code",
   "execution_count": 16,
   "metadata": {
    "colab": {
     "autoexec": {
      "startup": false,
      "wait_interval": 0
     },
     "base_uri": "https://localhost:8080/",
     "height": 52
    },
    "colab_type": "code",
    "executionInfo": {
     "elapsed": 86584,
     "status": "ok",
     "timestamp": 1523882129498,
     "user": {
      "displayName": "Kareem Abdel Salam",
      "photoUrl": "//lh5.googleusercontent.com/-FFkZs03hTYw/AAAAAAAAAAI/AAAAAAAAJYE/suktak0dYDI/s50-c-k-no/photo.jpg",
      "userId": "111052780768832987513"
     },
     "user_tz": -120
    },
    "id": "M1pJtrWU2Ah8",
    "outputId": "03442e73-f1a8-47a3-f06d-ead1462b924f"
   },
   "outputs": [
    {
     "name": "stderr",
     "output_type": "stream",
     "text": [
      "100%|██████████| 12500/12500 [00:21<00:00, 571.98it/s]\n",
      "100%|██████████| 12500/12500 [00:23<00:00, 525.14it/s]\n",
      "100%|██████████| 12500/12500 [00:21<00:00, 574.49it/s]\n",
      "100%|██████████| 12500/12500 [00:22<00:00, 566.56it/s]\n"
     ]
    }
   ],
   "source": [
    "pos_reviews_train_list=tokenize_list(pos_reviews_train_list)\n",
    "neg_reviews_train_list=tokenize_list(neg_reviews_train_list)\n",
    "pos_reviews_test_list=tokenize_list(pos_reviews_test_list)\n",
    "neg_reviews_test_list=tokenize_list(neg_reviews_test_list)"
   ]
  },
  {
   "cell_type": "markdown",
   "metadata": {},
   "source": [
    "** visualization checking correctness: **"
   ]
  },
  {
   "cell_type": "code",
   "execution_count": 17,
   "metadata": {
    "colab": {
     "autoexec": {
      "startup": false,
      "wait_interval": 0
     }
    },
    "colab_type": "code",
    "id": "tq5q4fFibk8C"
   },
   "outputs": [
    {
     "name": "stdout",
     "output_type": "stream",
     "text": [
      "['This', 'movie', 'has', 'a', 'special', 'way', 'of', 'telling', 'the', 'story', ',', 'at', 'first', 'i', 'found', 'it', 'rather', 'odd', 'as', 'it', 'jumped', 'through', 'time', 'and', 'I', 'had', 'no', 'idea', 'whats', 'happening.Anyway', 'the', 'story', 'line', 'was', 'although', 'simple', ',', 'but', 'still', 'very', 'real', 'and', 'touching', '.', 'You', 'met', 'someone', 'the', 'first', 'time', ',', 'you', 'fell', 'in', 'love', 'completely', ',', 'but', 'broke', 'up', 'at', 'last', 'and', 'promoted', 'a', 'deadly', 'agony', '.', 'Who', 'has', \"n't\", 'go', 'through', 'this', '?', 'but', 'we', 'will', 'never', 'forget', 'this', 'kind', 'of', 'pain', 'in', 'our', 'life', '.', 'I', 'would', 'say', 'i', 'am', 'rather', 'touched', 'as', 'two', 'actor', 'has', 'shown', 'great', 'performance', 'in', 'showing', 'the', 'love', 'between', 'the', 'characters', '.', 'I', 'just', 'wish', 'that', 'the', 'story', 'could', 'be', 'a', 'happy', 'ending', '.']\n"
     ]
    }
   ],
   "source": [
    "#print first review after tokenization\n",
    "print(pos_reviews_train_list[0])"
   ]
  },
  {
   "cell_type": "markdown",
   "metadata": {},
   "source": [
    "## Analysis step : Word count and Dataset statistics"
   ]
  },
  {
   "cell_type": "markdown",
   "metadata": {},
   "source": [
    "Before further preprocessing it is good to find more about the dataset through some statistical analysis of the training set. (Analysing test set in theory is not necessary because it should be invisible to us)"
   ]
  },
  {
   "cell_type": "code",
   "execution_count": 18,
   "metadata": {
    "colab": {
     "autoexec": {
      "startup": false,
      "wait_interval": 0
     }
    },
    "colab_type": "code",
    "id": "jNFhRlSdblAn"
   },
   "outputs": [
    {
     "name": "stdout",
     "output_type": "stream",
     "text": [
      "max\n",
      "2730\n",
      "min\n",
      "11\n",
      "mean\n",
      "264.498\n",
      "median\n",
      "198.0\n",
      "std\n",
      "196.29962566444183\n"
     ]
    }
   ],
   "source": [
    "lengths=[]\n",
    "for token_list in pos_reviews_train_list:\n",
    "    lengths.append(len(token_list))\n",
    "for token_list in neg_reviews_train_list:\n",
    "    lengths.append(len(token_list))\n",
    "list_of_lengths=np.asarray(lengths)\n",
    "maximum=np.max(list_of_lengths)\n",
    "minimum=np.min(list_of_lengths)\n",
    "mean=np.mean(list_of_lengths)\n",
    "median=np.median(list_of_lengths)\n",
    "std=np.std(list_of_lengths)\n",
    "print('max')\n",
    "print(maximum)\n",
    "print(\"min\")\n",
    "print(minimum)\n",
    "print('mean')\n",
    "print(mean)\n",
    "print('median')\n",
    "print(median)\n",
    "print('std')\n",
    "print(std)"
   ]
  },
  {
   "cell_type": "markdown",
   "metadata": {},
   "source": [
    "** comments on statistics:**\n",
    "as we can see from the cell above the maximum number of words in a review is 2730 while minimum number is 11 which is a big gap, but mean is 264.5 which means that this maximum is more of an outlier and this is show also by the median value and standard deviation. \n",
    "So usually we are dealing with reviews close to mean and median values."
   ]
  },
  {
   "cell_type": "markdown",
   "metadata": {},
   "source": [
    "** visualization ** \n",
    "plotting a histogram of word count which is a plot showing how many reviews of the 25k training samples contain certain word counts.\n",
    "i.e. how many reviews contain less than 250 words and how many review contain less than 500 words ....etc"
   ]
  },
  {
   "cell_type": "code",
   "execution_count": 48,
   "metadata": {},
   "outputs": [
    {
     "data": {
      "image/png": "[encoded data removed]",
      "text/plain": [
       "<Figure size 432x288 with 1 Axes>"
      ]
     },
     "metadata": {
      "needs_background": "light"
     },
     "output_type": "display_data"
    }
   ],
   "source": [
    "import matplotlib.pyplot as plt\n",
    "plt.xlabel(\"number of words per review\")\n",
    "plt.ylabel(\"number of reviews\")\n",
    "plt.hist(list_of_lengths, bins=10)\n",
    "plt.show()"
   ]
  },
  {
   "cell_type": "markdown",
   "metadata": {},
   "source": [
    "As seen above we can see that the data is right skewed and most reviews contain less than 500 words and only small portion of data contain more than that and it keeps decreasing.\n",
    "So this may indicate that the reviews with word count > a certain value are outliers and may confuse classifiers while they may be special cases (i.e. features obtained from them cannot be generalized to fit the whole distribution)"
   ]
  },
  {
   "cell_type": "markdown",
   "metadata": {},
   "source": [
    "** Samples **"
   ]
  },
  {
   "cell_type": "code",
   "execution_count": 20,
   "metadata": {},
   "outputs": [
    {
     "name": "stdout",
     "output_type": "stream",
     "text": [
      "\n",
      "example of a positive sentiment training review:\n",
      "\n",
      "   This movie has a special way of telling the story, at first i found it rather odd as it jumped through time and I had no idea whats happening.<br /><br />Anyway the story line was although simple, but still very real and touching. You met someone the first time, you fell in love completely, but broke up at last and promoted a deadly agony. Who hasn't go through this? but we will never forget this kind of pain in our life. <br /><br />I would say i am rather touched as two actor has shown great performance in showing the love between the characters. I just wish that the story could be a happy ending.\n",
      "\n",
      "example of a negative sentiment training review:\n",
      "\n",
      "   I found this movie to be a great idea, that didn't deliver. It seems they found a way to build suspense, but couldn't stage their payoffs very well. In one case the police, are on the clock to find the hideout of the kidnappers. They painstakingly go from dentist to dentist to match a dental record. At the same time, the kidnapped man (Mason) escapes through the elevator shaft. After all the build up, the police arrive at the same time he gets free, which is very anti-climatic to say the least. There are also large narration scenes that take us \"inside the thinking\" of the terrorized husband and wife, which detracts from the suspense rather than adds to it. We are fully aware of their tension, and the voice-over is an insult and robs the viewer of any chance of a personal experience with the fear, as Hitchcock proved time and again, is far more effective. The greatest disappointment, is to sit through the whole movie, and the get the quick, rather bland ending. I mean it just...\"ends\" in a snore.\n",
      "\n",
      "example of a positive sentiment testing review:\n",
      "\n",
      "   If your expecting Jackass look somewhere else this an actual movie and for the budget well done the acting isnt top noth neither is the writing but the directing was there and so was the story definetly worth the rent and possibly the buy if you really enjoy it like i did. But for the person who just likes jackass rent it first.\n",
      "\n",
      "example of a negative sentiment testing review:\n",
      "\n",
      "   This show is just another bad comedy which will probably be cancelled after two seasons. It's not just that the jokes are sexist/racist/homophobic, they're also not funny and clichéd. In the first episode the Father said something along the lines of ' I wish women didn't go out and get jobs and have the same rights as men blah blah blah' That really helps attitudes huh? Then he was making fun of his son saying he was weird. What parent says their kid is weird? So overall this show is boring, unoriginal, offencive, clichéd and most of all NOT FUNNY. Yeah American Dad's offencive. But it does also make you laugh and is obviously taking the micky. Thats the difference.\n"
     ]
    }
   ],
   "source": [
    "print(\"\\nexample of a positive sentiment training review:\\n\\n \",pos_review_train)\n",
    "print(\"\\nexample of a negative sentiment training review:\\n\\n \",neg_review_train)\n",
    "print(\"\\nexample of a positive sentiment testing review:\\n\\n \",pos_review_test)\n",
    "print(\"\\nexample of a negative sentiment testing review:\\n\\n \",neg_review_test)"
   ]
  },
  {
   "cell_type": "markdown",
   "metadata": {},
   "source": [
    "## Back to Preprocessing:"
   ]
  },
  {
   "cell_type": "markdown",
   "metadata": {
    "colab_type": "text",
    "id": "fMCqWhPWMWsM"
   },
   "source": [
    "#### Punctuation and Stop-words removal (is,are,the,this ....etc) :"
   ]
  },
  {
   "cell_type": "markdown",
   "metadata": {
    "colab_type": "text",
    "id": "5YSOYKj0DGQm"
   },
   "source": [
    "removing any stop words written in capital or small letters and removing punctuations because all of those will just confuse the classifier and are present in all text disregarding its sentiment."
   ]
  },
  {
   "cell_type": "code",
   "execution_count": 21,
   "metadata": {
    "colab": {
     "autoexec": {
      "startup": false,
      "wait_interval": 0
     },
     "base_uri": "https://localhost:8080/",
     "height": 54
    },
    "colab_type": "code",
    "executionInfo": {
     "elapsed": 832,
     "status": "ok",
     "timestamp": 1523882132748,
     "user": {
      "displayName": "Kareem Abdel Salam",
      "photoUrl": "//lh5.googleusercontent.com/-FFkZs03hTYw/AAAAAAAAAAI/AAAAAAAAJYE/suktak0dYDI/s50-c-k-no/photo.jpg",
      "userId": "111052780768832987513"
     },
     "user_tz": -120
    },
    "id": "xPy9rnkr1XD3",
    "outputId": "688931f8-e992-4f43-ab45-4d2bdcff6e01"
   },
   "outputs": [],
   "source": [
    "stop_words = list(get_stop_words('en')) \n",
    "\n",
    "def remove_stopwords(review):\n",
    "  filtered_words=[]\n",
    "  for tokens in review:\n",
    "    filtered_word=[]\n",
    "    filtered_word = [word for word in tokens if word.lower() not in stop_words]\n",
    "    filtered_words.append(filtered_word)\n",
    "    \n",
    "  return(filtered_words)\n",
    "def remove_punctuations(review):\n",
    "  filtered_words=[]\n",
    "  filtered=[]\n",
    "  for tokens in review:\n",
    "    filtered_word=[]\n",
    "    for token in tokens:\n",
    "        if (token.isalpha()== False):\n",
    "          filtered_word.append(token)\n",
    "    filtered_words=[x.lower() for x in tokens if x not in  filtered_word]\n",
    "    filtered.append(filtered_words)\n",
    "          \n",
    "    \n",
    "  return(filtered)\n",
    "\n"
   ]
  },
  {
   "cell_type": "code",
   "execution_count": 22,
   "metadata": {
    "colab": {
     "autoexec": {
      "startup": false,
      "wait_interval": 0
     },
     "base_uri": "https://localhost:8080/",
     "height": 54
    },
    "colab_type": "code",
    "executionInfo": {
     "elapsed": 924,
     "status": "ok",
     "timestamp": 1523882134132,
     "user": {
      "displayName": "Kareem Abdel Salam",
      "photoUrl": "//lh5.googleusercontent.com/-FFkZs03hTYw/AAAAAAAAAAI/AAAAAAAAJYE/suktak0dYDI/s50-c-k-no/photo.jpg",
      "userId": "111052780768832987513"
     },
     "user_tz": -120
    },
    "id": "DT9oyL86bWGp",
    "outputId": "ca2ced46-b8f1-4f62-8561-5fbac0f5b721"
   },
   "outputs": [],
   "source": [
    "pos_train_tokens=remove_stopwords(pos_reviews_train_list)\n",
    "pos_train_tokens=remove_punctuations(pos_train_tokens)\n",
    "\n",
    "neg_train_tokens=remove_stopwords(neg_reviews_train_list)\n",
    "neg_train_tokens=remove_punctuations(neg_train_tokens)\n",
    "\n",
    "pos_test_tokens=remove_stopwords(pos_reviews_test_list)\n",
    "pos_test_tokens=remove_punctuations(pos_test_tokens)\n",
    "\n",
    "neg_test_tokens=remove_stopwords(neg_reviews_test_list)\n",
    "neg_test_tokens=remove_punctuations(neg_test_tokens)\n",
    "\n"
   ]
  },
  {
   "cell_type": "markdown",
   "metadata": {},
   "source": [
    "**visualization and checking correctness:**"
   ]
  },
  {
   "cell_type": "code",
   "execution_count": 23,
   "metadata": {
    "scrolled": true
   },
   "outputs": [
    {
     "name": "stdout",
     "output_type": "stream",
     "text": [
      "['movie', 'special', 'way', 'telling', 'story', 'first', 'found', 'rather', 'odd', 'jumped', 'time', 'idea', 'whats', 'story', 'line', 'although', 'simple', 'still', 'real', 'touching', 'met', 'someone', 'first', 'time', 'fell', 'love', 'completely', 'broke', 'last', 'promoted', 'deadly', 'agony', 'go', 'will', 'never', 'forget', 'kind', 'pain', 'life', 'say', 'rather', 'touched', 'two', 'actor', 'shown', 'great', 'performance', 'showing', 'love', 'characters', 'just', 'wish', 'story', 'happy', 'ending']\n"
     ]
    }
   ],
   "source": [
    "print(pos_train_tokens[0])"
   ]
  },
  {
   "cell_type": "markdown",
   "metadata": {},
   "source": [
    "as seen above all stop words and punctuations were removed."
   ]
  },
  {
   "cell_type": "markdown",
   "metadata": {
    "colab_type": "text",
    "id": "dJaDGMaSeMs0"
   },
   "source": [
    "**Lemmatization**\n"
   ]
  },
  {
   "cell_type": "markdown",
   "metadata": {
    "colab_type": "text",
    "id": "dJaDGMaSeMs0"
   },
   "source": [
    "Lemmatization is the process of getting the linguistic root of a word,it is better than stemming because for close words produces same output which helps in calculating term frequency in text.\n",
    "\n",
    "Lemmatization to be done efficiently needs the pos-tag of words which is its position in the sentence and usage (Noun,Verb,Adjective,Adverb).\n",
    "\n",
    "Also, inside lemmatization function some unhelpful words were removed because of the hypothesis that they are present in all reviews disregarding the sentiment like (movies,films,will,can)"
   ]
  },
  {
   "cell_type": "code",
   "execution_count": 24,
   "metadata": {
    "colab": {
     "autoexec": {
      "startup": false,
      "wait_interval": 0
     },
     "base_uri": "https://localhost:8080/",
     "height": 54
    },
    "colab_type": "code",
    "executionInfo": {
     "elapsed": 900,
     "status": "ok",
     "timestamp": 1523882135238,
     "user": {
      "displayName": "Kareem Abdel Salam",
      "photoUrl": "//lh5.googleusercontent.com/-FFkZs03hTYw/AAAAAAAAAAI/AAAAAAAAJYE/suktak0dYDI/s50-c-k-no/photo.jpg",
      "userId": "111052780768832987513"
     },
     "user_tz": -120
    },
    "id": "-dsscCxY1eGm",
    "outputId": "02ed4b2a-12a4-494a-efb9-c2146f2a27f9",
    "scrolled": true
   },
   "outputs": [],
   "source": [
    "def get_wordnet_pos(treebank_tag):\n",
    "\n",
    "    if treebank_tag.startswith('J'):\n",
    "        return wordnet.ADJ\n",
    "    elif treebank_tag.startswith('V'):\n",
    "        return wordnet.VERB\n",
    "    elif treebank_tag.startswith('N'):\n",
    "        return wordnet.NOUN\n",
    "    elif treebank_tag.startswith('R'):\n",
    "        return wordnet.ADV\n",
    "    else:\n",
    "        return wordnet.NOUN\n",
    "      \n",
    "\n",
    "\n",
    "def lemmatize_list(list_of_lists_of_tokens):\n",
    "  lemmatizer = WordNetLemmatizer()\n",
    "  new_list=[]\n",
    "  for review in tqdm(list_of_lists_of_tokens):\n",
    "    new_review=[]\n",
    "    for token in review:\n",
    "      \n",
    "      if(token not in [\"movie\",\"film\",\"films\",\"movies\",\"will\",\"can\"]):\n",
    "        new_token=x=lemmatizer.lemmatize(token, get_wordnet_pos(nltk.pos_tag([token])[0][1]))\n",
    "        new_review.append(new_token)\n",
    "        \n",
    "    new_list.append(new_review)\n",
    "  return new_list\n",
    "  \n"
   ]
  },
  {
   "cell_type": "code",
   "execution_count": 25,
   "metadata": {},
   "outputs": [
    {
     "name": "stderr",
     "output_type": "stream",
     "text": [
      "100%|██████████| 12500/12500 [03:33<00:00, 58.52it/s]\n",
      "100%|██████████| 12500/12500 [03:38<00:00, 57.20it/s]\n",
      "100%|██████████| 12500/12500 [03:42<00:00, 56.14it/s]\n",
      "100%|██████████| 12500/12500 [03:24<00:00, 61.01it/s]\n"
     ]
    }
   ],
   "source": [
    "pos_train_tokens=lemmatize_list(pos_train_tokens)\n",
    "\n",
    "\n",
    "neg_train_tokens=lemmatize_list(neg_train_tokens)\n",
    "\n",
    "\n",
    "pos_test_tokens=lemmatize_list(pos_test_tokens)\n",
    "\n",
    "\n",
    "neg_test_tokens=lemmatize_list(neg_test_tokens)"
   ]
  },
  {
   "cell_type": "markdown",
   "metadata": {},
   "source": [
    "**visualization and checking correctness:**"
   ]
  },
  {
   "cell_type": "code",
   "execution_count": 26,
   "metadata": {
    "scrolled": true
   },
   "outputs": [
    {
     "name": "stdout",
     "output_type": "stream",
     "text": [
      "['special', 'way', 'tell', 'story', 'first', 'found', 'rather', 'odd', 'jumped', 'time', 'idea', 'whats', 'story', 'line', 'although', 'simple', 'still', 'real', 'touch', 'met', 'someone', 'first', 'time', 'fell', 'love', 'completely', 'broke', 'last', 'promote', 'deadly', 'agony', 'go', 'never', 'forget', 'kind', 'pain', 'life', 'say', 'rather', 'touch', 'two', 'actor', 'show', 'great', 'performance', 'show', 'love', 'character', 'just', 'wish', 'story', 'happy', 'end']\n"
     ]
    }
   ],
   "source": [
    "#printing text after lemmatization\n",
    "print(pos_train_tokens[0])"
   ]
  },
  {
   "cell_type": "markdown",
   "metadata": {
    "colab_type": "text",
    "id": "hQbIbT7JrqyW"
   },
   "source": [
    "as seen above the words returned to their roots and it has removed a word \"movie\" and other words that don't help in detecting sentiment."
   ]
  },
  {
   "cell_type": "markdown",
   "metadata": {
    "colab_type": "text",
    "id": "QiM0-Xm0Dqtw"
   },
   "source": [
    "**Reconstructing reviews after preprocessing**\n",
    "\n",
    "After preprocessing has been done there is no need to keep the reviews tokenized and it is time to reconcatenate the words of each review together to have a final list of clean preprocessed reviews ready for feature extraction.\n"
   ]
  },
  {
   "cell_type": "code",
   "execution_count": 27,
   "metadata": {
    "colab": {
     "autoexec": {
      "startup": false,
      "wait_interval": 0
     },
     "base_uri": "https://localhost:8080/",
     "height": 34
    },
    "colab_type": "code",
    "executionInfo": {
     "elapsed": 6816,
     "status": "ok",
     "timestamp": 1523882142356,
     "user": {
      "displayName": "Kareem Abdel Salam",
      "photoUrl": "//lh5.googleusercontent.com/-FFkZs03hTYw/AAAAAAAAAAI/AAAAAAAAJYE/suktak0dYDI/s50-c-k-no/photo.jpg",
      "userId": "111052780768832987513"
     },
     "user_tz": -120
    },
    "id": "80axlXtZH_Uj",
    "outputId": "a5e48679-2e2d-47b4-aae0-f9bb806a8d7b"
   },
   "outputs": [],
   "source": [
    "def reconstruct_reviews(list_of_lists_of_tokens):\n",
    "    list_of_reviews=[]\n",
    "    for list_of_tokens in tqdm(list_of_lists_of_tokens):\n",
    "        review=\"\"\n",
    "        for token in list_of_tokens:\n",
    "            review+=token+\" \"\n",
    "        list_of_reviews.append(review)\n",
    "    return list_of_reviews\n"
   ]
  },
  {
   "cell_type": "code",
   "execution_count": 28,
   "metadata": {},
   "outputs": [
    {
     "name": "stderr",
     "output_type": "stream",
     "text": [
      "100%|██████████| 12500/12500 [00:00<00:00, 51400.58it/s]\n",
      "100%|██████████| 12500/12500 [00:00<00:00, 59121.94it/s]\n",
      "100%|██████████| 12500/12500 [00:00<00:00, 60063.67it/s]\n",
      "100%|██████████| 12500/12500 [00:00<00:00, 61373.35it/s]\n"
     ]
    }
   ],
   "source": [
    "pos_train_reviews=reconstruct_reviews(pos_train_tokens)\n",
    "neg_train_reviews=reconstruct_reviews(neg_train_tokens)\n",
    "pos_test_reviews=reconstruct_reviews(pos_test_tokens)\n",
    "neg_test_reviews=reconstruct_reviews(neg_test_tokens)"
   ]
  },
  {
   "cell_type": "markdown",
   "metadata": {},
   "source": [
    "**visualization and checking correctness:**"
   ]
  },
  {
   "cell_type": "code",
   "execution_count": 29,
   "metadata": {},
   "outputs": [
    {
     "name": "stdout",
     "output_type": "stream",
     "text": [
      "special way tell story first found rather odd jumped time idea whats story line although simple still real touch met someone first time fell love completely broke last promote deadly agony go never forget kind pain life say rather touch two actor show great performance show love character just wish story happy end \n"
     ]
    }
   ],
   "source": [
    "#printing first review after reconstruction\n",
    "print(pos_train_reviews[0])"
   ]
  },
  {
   "cell_type": "markdown",
   "metadata": {},
   "source": [
    "### Preparing Training and testing data for the feature extractor and the classifier"
   ]
  },
  {
   "cell_type": "code",
   "execution_count": 30,
   "metadata": {
    "colab": {
     "autoexec": {
      "startup": false,
      "wait_interval": 0
     }
    },
    "colab_type": "code",
    "id": "gkL9dEHxGwno"
   },
   "outputs": [],
   "source": [
    "#train data is list of positive and negative reviews full after preprocessing and aldo test data\n",
    "train_data=[]\n",
    "test_data=[]\n",
    "train_data.extend(pos_train_reviews)\n",
    "train_data.extend(neg_train_reviews)\n",
    "test_data.extend(pos_test_reviews)\n",
    "test_data.extend(neg_test_reviews)"
   ]
  },
  {
   "cell_type": "markdown",
   "metadata": {},
   "source": [
    "**visualization and checking correctness:**"
   ]
  },
  {
   "cell_type": "code",
   "execution_count": 31,
   "metadata": {},
   "outputs": [
    {
     "name": "stdout",
     "output_type": "stream",
     "text": [
      "special way tell story first found rather odd jumped time idea whats story line although simple still real touch met someone first time fell love completely broke last promote deadly agony go never forget kind pain life say rather touch two actor show great performance show love character just wish story happy end \n",
      "\n",
      "surely one strangest theme history right ed wood impassioned defense glen glenda subject play bridge park avenue set play bohemian play russian speak questionable russian unconvincing accent speak english play restaurant one interested bridge one even despite great cast likely much interested bizarre young paul lukas fine well frank mchugh unlikely ghost writer lukas unlikely russian sunk fetishistic script \n"
     ]
    }
   ],
   "source": [
    "#making sure training data is well collected in one list\n",
    "print(train_data[0])\n",
    "print(\"\")\n",
    "print(train_data[12501])"
   ]
  },
  {
   "cell_type": "markdown",
   "metadata": {},
   "source": [
    "#### Giving Labels:"
   ]
  },
  {
   "cell_type": "markdown",
   "metadata": {},
   "source": [
    "Giving positve sentiment reviews an integer label \"1\" and negative sentiment reviews a \"0\" to help the classifier learn and recongnize different classes and associate some text features to a label sentiment."
   ]
  },
  {
   "cell_type": "code",
   "execution_count": 32,
   "metadata": {
    "colab": {
     "autoexec": {
      "startup": false,
      "wait_interval": 0
     }
    },
    "colab_type": "code",
    "id": "DDwGD3jchALx"
   },
   "outputs": [],
   "source": [
    "#making labels for reviews\n",
    "train_labels = np.asarray([1]*len(pos_train_reviews) + [0]*len(neg_train_reviews))\n",
    "test_labels = np.asarray([1]*len(pos_test_reviews) + [0]*len(neg_test_reviews))"
   ]
  },
  {
   "cell_type": "markdown",
   "metadata": {},
   "source": [
    "**visualization and checking correctness:**"
   ]
  },
  {
   "cell_type": "code",
   "execution_count": 33,
   "metadata": {},
   "outputs": [
    {
     "name": "stdout",
     "output_type": "stream",
     "text": [
      "(25000,)\n",
      "1 0\n",
      "(25000,)\n",
      "1 0\n"
     ]
    }
   ],
   "source": [
    "print(train_labels.shape)\n",
    "print(train_labels[0],train_labels[12501])\n",
    "print(test_labels.shape)\n",
    "print(test_labels[0],test_labels[12501])"
   ]
  },
  {
   "cell_type": "markdown",
   "metadata": {
    "colab_type": "text",
    "id": "9FTUPkCtQyv0"
   },
   "source": [
    "### Feature Extraction (TF-IDF)"
   ]
  },
  {
   "cell_type": "markdown",
   "metadata": {},
   "source": [
    "TF-IDF (Term Frequency - Inverse Document frequency) is a numerical feature extraction method for text data used to get more information about the text using Bag of words representation.\n",
    "ngram_range that is given as a parameter is the number of adjacent word associations made and I chose them to be pairs.\n",
    "\n",
    "TF-IDF method was chosen because Bag of Words methods according to the paper gave the highest results and other newer feature extraction methods like word2vec and doc2vec were not tried."
   ]
  },
  {
   "cell_type": "code",
   "execution_count": 34,
   "metadata": {
    "colab": {
     "autoexec": {
      "startup": false,
      "wait_interval": 0
     }
    },
    "colab_type": "code",
    "id": "O4RkCXoIXoTe"
   },
   "outputs": [],
   "source": [
    "from sklearn.feature_extraction.text import TfidfVectorizer\n",
    "import itertools\n",
    "obj = TfidfVectorizer(ngram_range=(1,2),stop_words='english')\n",
    "#fit transform to learn vocabulary from training data and then assign vectors to them\n",
    "train_vectors = obj.fit_transform(train_data)\n",
    "#transform the test data into vectors based on fitting done previously on training data\n",
    "test_vectors = obj.transform(test_data)"
   ]
  },
  {
   "cell_type": "markdown",
   "metadata": {},
   "source": [
    "**visualization and checking correctness:**"
   ]
  },
  {
   "cell_type": "code",
   "execution_count": 35,
   "metadata": {
    "scrolled": true
   },
   "outputs": [
    {
     "name": "stdout",
     "output_type": "stream",
     "text": [
      "train vector shape:\n",
      " (25000, 1482787)\n",
      "\n",
      "The first train vector:\n",
      "   (0, 1221909)\t0.059701768126163374\n",
      "  (0, 1430921)\t0.03877735519161602\n",
      "  (0, 1303621)\t0.053330787115042695\n",
      "  (0, 1249087)\t0.10584343964144066\n",
      "  (0, 907346)\t0.08063763893430748\n",
      "  (0, 693741)\t0.10830005917765659\n",
      "  (0, 1328104)\t0.06304653100654413\n",
      "  (0, 633254)\t0.056472791322568494\n",
      "  (0, 1440755)\t0.110662987492458\n",
      "  (0, 760205)\t0.052803146803002965\n",
      "  (0, 1187729)\t0.07066004023015644\n",
      "  (0, 1051197)\t0.04801518725448591\n",
      "  (0, 1341992)\t0.1334170501880486\n",
      "  (0, 836690)\t0.09013350534097873\n",
      "  (0, 476732)\t0.08628948311228088\n",
      "  (0, 782356)\t0.08181301940421053\n",
      "  (0, 254127)\t0.06081075270377014\n",
      "  (0, 156254)\t0.10090922976723118\n",
      "  (0, 1022405)\t0.0994605242151716\n",
      "  (0, 315886)\t0.09708322454624684\n",
      "  (0, 30450)\t0.11803716036369942\n",
      "  (0, 504328)\t0.0746511235412267\n",
      "  (0, 709456)\t0.05446723026214023\n",
      "  (0, 932065)\t0.08440488126645351\n",
      "  (0, 747523)\t0.04245031173716119\n",
      "  :\t:\n",
      "  (0, 1342390)\t0.16360856890119485\n",
      "  (0, 836888)\t0.15527440864053202\n",
      "  (0, 1329410)\t0.14978483761511796\n",
      "  (0, 476815)\t0.11175837050302972\n",
      "  (0, 782898)\t0.1522998180902537\n",
      "  (0, 254224)\t0.16360856890119485\n",
      "  (0, 156353)\t0.17022376405559536\n",
      "  (0, 1022435)\t0.17022376405559536\n",
      "  (0, 315892)\t0.17022376405559536\n",
      "  (0, 30466)\t0.17022376405559536\n",
      "  (0, 504566)\t0.17022376405559536\n",
      "  (0, 710390)\t0.17022376405559536\n",
      "  (0, 932217)\t0.15527440864053202\n",
      "  (0, 749680)\t0.12837641339222847\n",
      "  (0, 1132472)\t0.1522998180902537\n",
      "  (0, 1342000)\t0.1589150132446542\n",
      "  (0, 14297)\t0.10706481484648912\n",
      "  (0, 558331)\t0.09567131018929531\n",
      "  (0, 955104)\t0.14241066474387654\n",
      "  (0, 782795)\t0.11269091452397265\n",
      "  (0, 202648)\t0.09822861255253038\n",
      "  (0, 698241)\t0.11269091452397265\n",
      "  (0, 1450943)\t0.14978483761511796\n",
      "  (0, 1250505)\t0.14978483761511796\n",
      "  (0, 580615)\t0.10090922976723118\n",
      "\n",
      "test vector shape:\n",
      " (25000, 1482787)\n",
      "\n",
      "The first test vector:\n",
      "   (0, 1468584)\t0.13778521664168836\n",
      "  (0, 1468232)\t0.07100684300440592\n",
      "  (0, 1466139)\t0.1792229228087842\n",
      "  (0, 1465700)\t0.08116479389994126\n",
      "  (0, 1249087)\t0.05016744148187213\n",
      "  (0, 1079118)\t0.1930891194462571\n",
      "  (0, 1055932)\t0.13227397501424926\n",
      "  (0, 1055213)\t0.05082352001502214\n",
      "  (0, 996852)\t0.2420468595223042\n",
      "  (0, 996805)\t0.10747884246152573\n",
      "  (0, 958239)\t0.20047991092777\n",
      "  (0, 957785)\t0.09038563581933172\n",
      "  (0, 897443)\t0.22078987140331835\n",
      "  (0, 774195)\t0.2420468595223042\n",
      "  (0, 774173)\t0.05374060909046003\n",
      "  (0, 756320)\t0.18862928989937958\n",
      "  (0, 752286)\t0.07969128229313469\n",
      "  (0, 696464)\t0.11475721755310588\n",
      "  (0, 694580)\t0.043353731236151424\n",
      "  (0, 678292)\t0.36333435349315885\n",
      "  (0, 675943)\t0.19690377613164547\n",
      "  (0, 440613)\t0.08046426897115912\n",
      "  (0, 413632)\t0.17772569651442652\n",
      "  (0, 412962)\t0.07495264132977257\n",
      "  (0, 351225)\t0.20047991092777\n",
      "  (0, 350291)\t0.08405866634850227\n",
      "  (0, 324683)\t0.2420468595223042\n",
      "  (0, 324676)\t0.20715383458914413\n",
      "  (0, 168696)\t0.20249848401002968\n",
      "  (0, 168401)\t0.10467242394927342\n",
      "  (0, 161170)\t0.20988627801836535\n",
      "  (0, 161163)\t0.09292152991260436\n",
      "  (0, 16570)\t0.22596656877033477\n",
      "  (0, 16527)\t0.10595092681372387\n",
      "  (0, 10471)\t0.2420468595223042\n",
      "  (0, 9388)\t0.054226816837046374\n"
     ]
    }
   ],
   "source": [
    "print(\"train vector shape:\\n\",train_vectors.shape)\n",
    "print(\"\\nThe first train vector:\\n\",train_vectors[0])\n",
    "print(\"\\ntest vector shape:\\n\",test_vectors.shape)\n",
    "print(\"\\nThe first test vector:\\n\",test_vectors[0])"
   ]
  },
  {
   "cell_type": "markdown",
   "metadata": {},
   "source": [
    "### Supervised Learning"
   ]
  },
  {
   "cell_type": "markdown",
   "metadata": {},
   "source": [
    "Using Logistic regression and Naive Bayes supervised learning classifiers, fitting them on input training vectors then outputing the classification accuracy as a percentage.\n",
    "\n",
    "I chose Naive Bayes because it is famous for its good results with text data and Logistic Regression because it was the only classifier allowed in the 2016 kaggle challenge and it produced good results in binary classification.\n",
    "\n",
    "The multinomial Naive Bayes classifier is suitable for classification with discrete features (e.g., word counts for text classification)."
   ]
  },
  {
   "cell_type": "markdown",
   "metadata": {},
   "source": [
    "#### Logistic Regression"
   ]
  },
  {
   "cell_type": "code",
   "execution_count": 36,
   "metadata": {
    "colab": {
     "autoexec": {
      "startup": false,
      "wait_interval": 0
     },
     "base_uri": "https://localhost:8080/",
     "height": 34
    },
    "colab_type": "code",
    "executionInfo": {
     "elapsed": 12736,
     "status": "ok",
     "timestamp": 1523882193566,
     "user": {
      "displayName": "Kareem Abdel Salam",
      "photoUrl": "//lh5.googleusercontent.com/-FFkZs03hTYw/AAAAAAAAAAI/AAAAAAAAJYE/suktak0dYDI/s50-c-k-no/photo.jpg",
      "userId": "111052780768832987513"
     },
     "user_tz": -120
    },
    "id": "5lXFss-zIR6R",
    "outputId": "1f104235-d91a-4c7c-82d4-97239486dbe6"
   },
   "outputs": [
    {
     "name": "stdout",
     "output_type": "stream",
     "text": [
      "Logistic Regression classification accuracy:\n",
      " 86.868 %\n"
     ]
    }
   ],
   "source": [
    "##logistic Regression\n",
    "from sklearn import linear_model, datasets\n",
    "logreg = linear_model.LogisticRegression()\n",
    "logreg.fit(train_vectors, train_labels)\n",
    "print(\"Logistic Regression classification accuracy:\\n\",logreg.score(test_vectors,test_labels)*100,\"%\")"
   ]
  },
  {
   "cell_type": "markdown",
   "metadata": {},
   "source": [
    "#### Naive Bayes"
   ]
  },
  {
   "cell_type": "code",
   "execution_count": 37,
   "metadata": {
    "colab": {
     "autoexec": {
      "startup": false,
      "wait_interval": 0
     },
     "base_uri": "https://localhost:8080/",
     "height": 34
    },
    "colab_type": "code",
    "executionInfo": {
     "elapsed": 980,
     "status": "ok",
     "timestamp": 1523882257680,
     "user": {
      "displayName": "Kareem Abdel Salam",
      "photoUrl": "//lh5.googleusercontent.com/-FFkZs03hTYw/AAAAAAAAAAI/AAAAAAAAJYE/suktak0dYDI/s50-c-k-no/photo.jpg",
      "userId": "111052780768832987513"
     },
     "user_tz": -120
    },
    "id": "2TjzAgKLo5jE",
    "outputId": "1cd373bd-ce38-41f1-e5be-026c0c87be7a"
   },
   "outputs": [
    {
     "name": "stdout",
     "output_type": "stream",
     "text": [
      "Naive Bayes classification accuracy:\n",
      " 84.676 %\n"
     ]
    }
   ],
   "source": [
    "### Naive-bayes\n",
    "from sklearn.naive_bayes import MultinomialNB\n",
    "nb = MultinomialNB()\n",
    "nb.fit(train_vectors, train_labels)\n",
    "print(\"Naive Bayes classification accuracy:\\n\",nb.score(test_vectors,test_labels)*100,\"%\")"
   ]
  },
  {
   "cell_type": "markdown",
   "metadata": {},
   "source": [
    "### Refinement and hyperparameter tuning"
   ]
  },
  {
   "cell_type": "markdown",
   "metadata": {},
   "source": [
    "Improving results using GridsearchCV where I tune the 'C' hyper parameter in Logistic regression to get better results.\n",
    "The tuning is done on 10% of the training data : 2500 samples , 1250 positive and 1250 negative to get the best hyperparmeter values and extract the best estimator, then this estimator with best parameters is trained on all training data and accuracy is produced.\n",
    "\n",
    "Gridsearch is a hyperparameter optimization algorithm that tries all input hyperparameter values given on some portion of data to find best hyperparameters and best model to operate on the data."
   ]
  },
  {
   "cell_type": "code",
   "execution_count": 38,
   "metadata": {},
   "outputs": [],
   "source": [
    "#getting 10% of training data and assigning their labels\n",
    "train_vectors10=train_vectors[11250:13750]\n",
    "train_labels10=[1] * 1250\n",
    "train_labels10.extend([0]*1250)\n"
   ]
  },
  {
   "cell_type": "markdown",
   "metadata": {},
   "source": [
    "trying different values for C hyperparameter ([0.1,1,10,25,50,100,1000,10000]) to find the best of them"
   ]
  },
  {
   "cell_type": "code",
   "execution_count": 39,
   "metadata": {},
   "outputs": [
    {
     "name": "stderr",
     "output_type": "stream",
     "text": [
      "/home/kareem/.local/lib/python3.6/site-packages/sklearn/cross_validation.py:41: DeprecationWarning: This module was deprecated in version 0.18 in favor of the model_selection module into which all the refactored classes and functions are moved. Also note that the interface of the new CV iterators are different from that of this module. This module will be removed in 0.20.\n",
      "  \"This module will be removed in 0.20.\", DeprecationWarning)\n",
      "/home/kareem/.local/lib/python3.6/site-packages/sklearn/grid_search.py:42: DeprecationWarning: This module was deprecated in version 0.18 in favor of the model_selection module into which all the refactored classes and functions are moved. This module will be removed in 0.20.\n",
      "  DeprecationWarning)\n"
     ]
    }
   ],
   "source": [
    "from sklearn import grid_search\n",
    "#values of C hyper parameter to try in grid search\n",
    "parameters = {'C':[0.1,1,10,25,50,100,1000,10000]}\n",
    "#making a new logistic regression model\n",
    "logreg = linear_model.LogisticRegression()\n",
    "grid_search = grid_search.GridSearchCV(logreg, parameters)\n",
    "#fitting grid search with 10% of training data to find best parameters\n",
    "grid_search.fit(train_vectors10, train_labels10)\n",
    "# extracting estimator with best parameters\n",
    "logclf=grid_search.best_estimator_\n",
    "logclf_CV=grid_search.best_estimator_"
   ]
  },
  {
   "cell_type": "code",
   "execution_count": 40,
   "metadata": {},
   "outputs": [
    {
     "name": "stdout",
     "output_type": "stream",
     "text": [
      "Best params for accuracy:\n",
      "{'C': 50}\n",
      "\n",
      "estimator:\n",
      "\n",
      "LogisticRegression(C=50, class_weight=None, dual=False, fit_intercept=True,\n",
      "          intercept_scaling=1, max_iter=100, multi_class='ovr', n_jobs=1,\n",
      "          penalty='l2', random_state=None, solver='liblinear', tol=0.0001,\n",
      "          verbose=0, warm_start=False)\n",
      "\n",
      "Logistic Regression classification accuracy:\n",
      " 87.928 %\n"
     ]
    }
   ],
   "source": [
    "print('Best params for accuracy:')\n",
    "print(grid_search.best_params_)\n",
    "print(\"\\nestimator:\\n\")\n",
    "print(logclf)\n",
    "logclf.fit(train_vectors,train_labels)\n",
    "print(\"\\nLogistic Regression classification accuracy:\\n\",logclf.score(test_vectors,test_labels)*100,\"%\")"
   ]
  },
  {
   "cell_type": "markdown",
   "metadata": {},
   "source": [
    "as seen above, the best hyperparameter value was C=50 and the best estimator with this parameter value gave  87.928 % accuracy compared to  86.868 % before tuning."
   ]
  },
  {
   "cell_type": "markdown",
   "metadata": {},
   "source": [
    "** Tuning Naive Bayes**\n",
    "\n",
    "Trying different alpha (smoothening) values: [0,0.3,0.5,0.7,1] using gridsearch"
   ]
  },
  {
   "cell_type": "code",
   "execution_count": 41,
   "metadata": {},
   "outputs": [
    {
     "name": "stderr",
     "output_type": "stream",
     "text": [
      "/home/kareem/.local/lib/python3.6/site-packages/sklearn/naive_bayes.py:472: UserWarning: alpha too small will result in numeric errors, setting alpha = 1.0e-10\n",
      "  'setting alpha = %.1e' % _ALPHA_MIN)\n",
      "/home/kareem/.local/lib/python3.6/site-packages/sklearn/naive_bayes.py:472: UserWarning: alpha too small will result in numeric errors, setting alpha = 1.0e-10\n",
      "  'setting alpha = %.1e' % _ALPHA_MIN)\n",
      "/home/kareem/.local/lib/python3.6/site-packages/sklearn/naive_bayes.py:472: UserWarning: alpha too small will result in numeric errors, setting alpha = 1.0e-10\n",
      "  'setting alpha = %.1e' % _ALPHA_MIN)\n"
     ]
    }
   ],
   "source": [
    "from sklearn.model_selection import GridSearchCV\n",
    "#values of C hyper parameter to try in grid search\n",
    "parameters = {'alpha':[0,0.3,0.5,0.7,1]}\n",
    "#making a new naive bayes model\n",
    "nb = MultinomialNB()\n",
    "grid_search = GridSearchCV(nb, parameters)\n",
    "#fitting grid search with 10% of training data to find best parameters\n",
    "grid_search.fit(train_vectors10, train_labels10)\n",
    "# extracting estimator with best parameters\n",
    "clf=grid_search.best_estimator_"
   ]
  },
  {
   "cell_type": "code",
   "execution_count": 42,
   "metadata": {},
   "outputs": [
    {
     "name": "stdout",
     "output_type": "stream",
     "text": [
      "Best params for accuracy:\n",
      "{'alpha': 0.5}\n",
      "\n",
      "estimator:\n",
      "\n",
      "MultinomialNB(alpha=0.5, class_prior=None, fit_prior=True)\n",
      "\n",
      "Naive Bayes classification accuracy:\n",
      " 84.63199999999999 %\n"
     ]
    }
   ],
   "source": [
    "print('Best params for accuracy:')\n",
    "print(grid_search.best_params_)\n",
    "print(\"\\nestimator:\\n\")\n",
    "print(clf)\n",
    "clf.fit(train_vectors,train_labels)\n",
    "print(\"\\nNaive Bayes classification accuracy:\\n\",clf.score(test_vectors,test_labels)*100,\"%\")"
   ]
  },
  {
   "cell_type": "markdown",
   "metadata": {},
   "source": [
    "as seen above, the best hyperparameter value found by grid search was alpha=0.5 and the best estimator with this parameter value gave 84.63199999999999% accuracy compared to 84.676 % before tuning, so this shows that tuning on 10% failed to extract best alpha parameter and that the higher smoothening value gave higher accuracy (by a small value)."
   ]
  },
  {
   "cell_type": "markdown",
   "metadata": {},
   "source": [
    "#### K-Folds Cross Validation"
   ]
  },
  {
   "cell_type": "markdown",
   "metadata": {},
   "source": [
    "Besides hyperparameter tuning using Grid Search, K-Folds Cross Validation is now used to validate the robustness of the model by making several train-validation splits withing data and train the model on them and test on different validation sets, to detect overfitting and underfitting signs."
   ]
  },
  {
   "cell_type": "code",
   "execution_count": 43,
   "metadata": {},
   "outputs": [],
   "source": [
    "\n",
    "from sklearn.model_selection import cross_val_score\n",
    "scores = cross_val_score(logclf_CV, train_vectors, train_labels, cv=5)"
   ]
  },
  {
   "cell_type": "code",
   "execution_count": 44,
   "metadata": {},
   "outputs": [
    {
     "name": "stdout",
     "output_type": "stream",
     "text": [
      "[88.78 88.24 88.9  89.44 89.24]\n",
      "Mean Accuracy: 88.92  (+/- 0.01 deviation) \n"
     ]
    }
   ],
   "source": [
    "print(scores*100)\n",
    "print(\"Mean Accuracy: %0.2f  (+/- %0.2f deviation) \" % (scores.mean()*100, scores.std() * 2))"
   ]
  },
  {
   "cell_type": "markdown",
   "metadata": {},
   "source": [
    "As seen above when used K-Folds Cross Validation on the training set with our best model that came out of gridsearchCV hyperparameter tuning, high accuracies were obtained on training set even higher than ones obtained before on testing test but not much higher which shows very good generalization and low tendency towards overfitting and underfitting."
   ]
  },
  {
   "cell_type": "code",
   "execution_count": 45,
   "metadata": {},
   "outputs": [],
   "source": [
    "#another method for K-folds cross validation\n",
    "# from sklearn.model_selection import KFold\n",
    "# mean=0\n",
    "# kf = KFold(n_splits=5,shuffle=True,random_state=1995)\n",
    "# for train, test in kf.split(train_vectors):\n",
    "#     print('train: %s, test: %s' % (train_vectors[train].shape, train_vectors[test].shape))\n",
    "#     logclf_CV.fit(train_vectors[train],train_labels[train])\n",
    "#     x=logclf_CV.score(train_vectors[test],train_labels[test])\n",
    "#     mean+=x\n",
    "#     print(\"accuracy\",x*100,\"%\")\n",
    "# print(\"mean K-Folds cross validation score:\",mean/5*100,\"%\")\n"
   ]
  },
  {
   "cell_type": "markdown",
   "metadata": {},
   "source": [
    "### Algorithms and techniques \n",
    "after each step there is a breif description of each Algorithm and Technique used followed by reason of usage.\n",
    "\n",
    "** Naive Bayes ** is a probabilistic classifier that uses the probability of appearance of features in certain classes to predict the correct class of a given input but it makes an assumption of having independence between features.It is a conditional probability model given a problem instance to be classified, represented by a vector X=(x1,x2...xn) representing some n features (independent variables), it assigns to this instance probabilities P(C_k/ x1,x2...xn) for each of K possible outcomes or classes C_k.\n",
    "\n",
    "We Classify and give a label to the review according to the class that has the highest conditional probability given the features as conditions.\n",
    "\n",
    "\n",
    "** Logistic Regression ** is an algorithm mostly used for binary classification by fitting a the best curve possible through tuning linear equation coefficients to make a decision boundary between classes through searching for minimal mean squared loss.\n",
    "\n",
    "Logistic regression uses an equation as the representation, input values (x) are combined linearly using weights or coefficient values (b1):\n",
    "\n",
    "y = e^(b0 + b1*x) / (1 + e^(b0 + b1*x)).\n",
    "\n",
    "Where y is the predicted output, b0 is the bias or intercept term and b1 is the coefficient for the single input value (x). Each column in your input data has an associated b coefficient (a constant real value) that must be learned from your training data.\n",
    "\n",
    "(resource: https://machinelearningmastery.com/logistic-regression-for-machine-learning/ )\n",
    "\n",
    "A good thing about Logistic Regression beside the fact that it runs in little time in this task is the fact that it supports online learning (there are implementations of it that support it), this means that we can add more training examples if they become available in the future without needing to rerun the algorithm on the whole dataset again.\n",
    "(resource: “A Family of Online Boosting Algorithms” by Babenco et al.)\n"
   ]
  },
  {
   "cell_type": "markdown",
   "metadata": {},
   "source": [
    "# Results"
   ]
  },
  {
   "cell_type": "markdown",
   "metadata": {},
   "source": [
    "### Model Evaluation and Validation"
   ]
  },
  {
   "cell_type": "markdown",
   "metadata": {},
   "source": [
    "The tuned C parameter of logistic regression is the inverse of regulization strength (higher values of C correspond to less regularization) which means on increasing the value of C we allow the equation to get to higher degrees in order to fit the problem better which results in more complexity.\n",
    "So by tuning the best value for C found that gives best accuracy was 50 as compare to the default value 1 which means we need to decrease regularizarion and allow more degrees of freedom to make better classification.\n",
    "But in comparing results we find that the accuracy was not improved by much (about 1.2%) so this improvement can be removed if we wanted less complexity.\n",
    "\n",
    "The alpha parameter for naive bayes is additive (Laplace/Lidstone) smoothing parameter: 0 for no smoothing and 1 for full smoothing.\n",
    "Smoothening aims to reduce the effect of rare words in classification, for example: if a word \"hot\" is found only in one negative sentiment review , we want to reduce the effect of it in classification of all reviews containing this word as negative just because of it.\n",
    "The accuracy values show that the default smoothening value (alpha=1) gave better results by a little amount."
   ]
  },
  {
   "cell_type": "markdown",
   "metadata": {},
   "source": [
    "### Justification"
   ]
  },
  {
   "cell_type": "markdown",
   "metadata": {},
   "source": [
    "The best accuracy obtained was that of logistic regression equivalent to  87.928 %, which is much better than the random chance benchmark (50%) and very close to the other stated benchmark by Maas et al. ( 88.89%) only off by 1%.\n",
    "So this solution succeeds to solve the problem to a good extent and can classify most text sentiments of movie reviews especially that it had been trained on 25k different reviews."
   ]
  },
  {
   "cell_type": "markdown",
   "metadata": {},
   "source": [
    "# Conclusion"
   ]
  },
  {
   "cell_type": "markdown",
   "metadata": {},
   "source": [
    "### Free-Form Visualization"
   ]
  },
  {
   "cell_type": "code",
   "execution_count": 46,
   "metadata": {},
   "outputs": [],
   "source": [
    "def plot_confusion_matrix(cm, title='Confusion matrix', cmap=plt.cm.Blues, labels=[]):\n",
    "    plt.imshow(cm, interpolation='nearest', cmap=cmap)\n",
    "    plt.title(title)\n",
    "    plt.colorbar()\n",
    "    tick_marks = np.arange(len(labels))\n",
    "    plt.xticks(tick_marks, labels, rotation=45)\n",
    "    plt.yticks(tick_marks, labels)\n",
    "    plt.tight_layout()\n",
    "    plt.ylabel('True label')\n",
    "    plt.xlabel('Predicted label')"
   ]
  },
  {
   "cell_type": "code",
   "execution_count": 49,
   "metadata": {},
   "outputs": [
    {
     "name": "stdout",
     "output_type": "stream",
     "text": [
      "[[10906  1594]\n",
      " [ 2248 10252]]\n"
     ]
    },
    {
     "data": {
      "image/png": "[encoded data removed]",
      "text/plain": [
       "<Figure size 432x288 with 2 Axes>"
      ]
     },
     "metadata": {
      "needs_background": "light"
     },
     "output_type": "display_data"
    }
   ],
   "source": [
    "from sklearn.metrics import confusion_matrix\n",
    "test_predicted=clf.predict(test_vectors)\n",
    "cm=confusion_matrix(test_labels, test_predicted)\n",
    "plot_confusion_matrix(cm, labels=[\"positive\",\"negative\"])\n",
    "print(cm)"
   ]
  },
  {
   "cell_type": "code",
   "execution_count": 50,
   "metadata": {},
   "outputs": [
    {
     "data": {
      "text/plain": [
       "<matplotlib.axes._subplots.AxesSubplot at 0x7efd51ea18d0>"
      ]
     },
     "execution_count": 50,
     "metadata": {},
     "output_type": "execute_result"
    },
    {
     "data": {
      "image/png": "[encoded data removed]",
      "text/plain": [
       "<Figure size 432x288 with 2 Axes>"
      ]
     },
     "metadata": {
      "needs_background": "light"
     },
     "output_type": "display_data"
    }
   ],
   "source": [
    "#trying seaborn\n",
    "from sklearn.metrics import confusion_matrix\n",
    "import seaborn as sns\n",
    "%matplotlib inline\n",
    "sns.heatmap(confusion_matrix(test_labels, test_predicted), annot = True, fmt = '')"
   ]
  },
  {
   "cell_type": "markdown",
   "metadata": {},
   "source": [
    "As seen above by plotting the confusion matrix  we see that predicting positive sentiment is the best performance of the model is in predicting True-positive labels and there is some sort of diagonal symmetry within the matrix, so the model is balanced and does not tend towards one type of misclassification over others by a big value."
   ]
  },
  {
   "cell_type": "markdown",
   "metadata": {},
   "source": [
    "### Reflection"
   ]
  },
  {
   "cell_type": "markdown",
   "metadata": {},
   "source": [
    "The project summary is that in order to classify the sentiment of reviews I needed to preprocess the text first to remove any words that don't help in classification and then extract numerical features based on word frequency in documents to give weights to words and finally use supervised learning to process those features and make decision boundaries to classify any test document given its numerical features.\n",
    "\n",
    "What I found challenging about the project was understanding word embeddings and extraction of features from text but it was a thing worth learning.\n",
    "Another challenging thing was all the documentation required and explanations of each step which is so time consuming but it is necessary to produce any readable output that is valuable to others.\n",
    "\n",
    "In the process of coding the only thing I struggled with was in the tuning step where I used train_test_split() function of scikit learn to get 10% of data to use for tuning but the tuning wouldn't improve accuracy based on those splits and hyperparameters did not change but when I hand split the 10% I wanted the tuning worked and accuracy improved and this is probably because I chose some baised unshuffled data but they seemed to work for tuning, so it was not fully automated."
   ]
  },
  {
   "cell_type": "markdown",
   "metadata": {},
   "source": [
    "### Improvement"
   ]
  },
  {
   "cell_type": "markdown",
   "metadata": {},
   "source": [
    "I think what can be improved is trying another word embedding models like word2vec and doc2vec to extract features in other ways and maybe use other classification methods like deep learning ones (CNNs or RNNs)"
   ]
  },
  {
   "cell_type": "markdown",
   "metadata": {
    "colab_type": "text",
    "id": "ZRhvaZZlS1VE"
   },
   "source": [
    "**Dataset credits and copyrights:**\n",
    "\n",
    "InProceedings{maas-EtAl:2011:ACL-HLT2011,\n",
    "  author    = {Maas, Andrew L.  and  Daly, Raymond E.  and  Pham, Peter T.  and  Huang, Dan  and  Ng, Andrew Y.  and  Potts, Christopher},\n",
    "  \n",
    "  title     = {Learning Word Vectors for Sentiment Analysis},\n",
    "  \n",
    "  booktitle = {Proceedings of the 49th Annual Meeting of the Association for Computational Linguistics: Human Language Technologies},\n",
    "  \n",
    "  month     = {June},\n",
    "  \n",
    "  year      = {2011},\n",
    "  \n",
    "  address   = {Portland, Oregon, USA},\n",
    "  \n",
    "  publisher = {Association for Computational Linguistics},\n",
    "  \n",
    "  pages     = {142--150},\n",
    "  \n",
    "  url       = {http://www.aclweb.org/anthology/P11-1015}\n",
    "}\n",
    "\n",
    "\n",
    "References\n",
    "\n",
    "Potts, Christopher. 2011. On the negativity of negation. In Nan Li and\n",
    "David Lutz, eds., Proceedings of Semantics and Linguistic Theory 20,\n",
    "636-659.\n"
   ]
  }
 ],
 "metadata": {
  "accelerator": "GPU",
  "colab": {
   "collapsed_sections": [],
   "default_view": {},
   "name": "Assignment#2-SentimentAnalysis.ipynb",
   "provenance": [],
   "version": "0.3.2",
   "views": {}
  },
  "kernelspec": {
   "display_name": "Python 3",
   "language": "python",
   "name": "python3"
  },
  "language_info": {
   "codemirror_mode": {
    "name": "ipython",
    "version": 3
   },
   "file_extension": ".py",
   "mimetype": "text/x-python",
   "name": "python",
   "nbconvert_exporter": "python",
   "pygments_lexer": "ipython3",
   "version": "3.6.6"
  }
 },
 "nbformat": 4,
 "nbformat_minor": 1
}
